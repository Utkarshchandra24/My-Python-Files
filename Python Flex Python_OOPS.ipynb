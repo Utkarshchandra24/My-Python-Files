{
  "nbformat": 4,
  "nbformat_minor": 0,
  "metadata": {
    "colab": {
      "name": "Python OOPS.ipynb",
      "provenance": [],
      "collapsed_sections": [],
      "authorship_tag": "ABX9TyNg4znaocDJjS9atXr3Q5qq",
      "include_colab_link": true
    },
    "kernelspec": {
      "name": "python3",
      "display_name": "Python 3"
    },
    "language_info": {
      "name": "python"
    }
  },
  "cells": [
    {
      "cell_type": "markdown",
      "metadata": {
        "id": "view-in-github",
        "colab_type": "text"
      },
      "source": [
        "<a href=\"https://colab.research.google.com/github/Utkarshchandra24/My-Python-Files/blob/main/Python%20Flex%20Python_OOPS.ipynb\" target=\"_parent\"><img src=\"https://colab.research.google.com/assets/colab-badge.svg\" alt=\"Open In Colab\"/></a>"
      ]
    },
    {
      "cell_type": "markdown",
      "metadata": {
        "id": "hE2s-BICd9Nz"
      },
      "source": [
        "Creating Class and Object in Python"
      ]
    },
    {
      "cell_type": "code",
      "metadata": {
        "colab": {
          "base_uri": "https://localhost:8080/"
        },
        "id": "6gtm3VVDaHKU",
        "outputId": "229be29d-8f79-410e-ac4a-804a8a8a04eb"
      },
      "source": [
        "class Mobile:\n",
        "  species=\"Smartphone Company\"\n",
        "\n",
        "  def __init__(self,name,age):\n",
        "    self.name=name\n",
        "    self.age=age\n",
        "\n",
        "samsung=Mobile(\"Samsung\",30)\n",
        "apple=Mobile(\"Apple\",15)\n",
        "\n",
        "print(\"Samsung is a {}\".format(samsung.__class__.species))\n",
        "print(\"Apple is also a {}\".format(apple.__class__.species))\n",
        "\n",
        "print(\"{} is {} years old\".format(samsung.name,samsung.age))\n",
        "print(\"{} is {} years old\".format(apple.name,apple.age))"
      ],
      "execution_count": null,
      "outputs": [
        {
          "output_type": "stream",
          "text": [
            "Samsung is a Smartphone Company\n",
            "Apple is also a Smartphone Company\n",
            "Samsung is 30 years old\n",
            "Apple is 15 years old\n"
          ],
          "name": "stdout"
        }
      ]
    },
    {
      "cell_type": "markdown",
      "metadata": {
        "id": "JmwbBGwMh95H"
      },
      "source": [
        "Methods"
      ]
    },
    {
      "cell_type": "code",
      "metadata": {
        "colab": {
          "base_uri": "https://localhost:8080/"
        },
        "id": "fEcxjUfaiAz7",
        "outputId": "7f557421-1163-43ad-e599-2e458068d2c6"
      },
      "source": [
        "class Mobile:\n",
        "  def __init__(self,name,age):\n",
        "    self.name=name\n",
        "    self.age=age\n",
        "  \n",
        "  def storage(self,storage):\n",
        "    return \"{} storage {}\".format(self.name,storage)\n",
        "  \n",
        "  def proccessor(self,process):\n",
        "    return \"{} processor {}\".format(self.name,process)\n",
        "  \n",
        "samsung=Mobile(\"Samsung\",30)\n",
        "apple=Mobile(\"Apple\",15)\n",
        "\n",
        "\n",
        "print(samsung.storage(\"6gb RAM/128gb ROM\"))\n",
        "print(samsung.storage(\"8gb Ram/128gb ROM \\n\"))\n",
        "print(samsung.proccessor(\"Exynos 9804 Processor \"))\n",
        "print(samsung.proccessor(\"Snapdragon 888 Processor\\n\"))\n",
        "print(apple.storage(\"4gb RAM/64gb ROM\"))\n",
        "print(apple.storage(\"6gb RAM/128gb ROM \\n\"))\n",
        "print(apple.proccessor(\"A13 Bionic Processor\"))  \n",
        "print(apple.proccessor(\"A12 Bionic Processor\")) "
      ],
      "execution_count": null,
      "outputs": [
        {
          "output_type": "stream",
          "text": [
            "Samsung storage 6gb RAM/128gb ROM\n",
            "Samsung storage 8gb Ram/128gb ROM \n",
            "\n",
            "Samsung processor Exynos 9804 Processor \n",
            "Samsung processor Snapdragon 888 Processor\n",
            "\n",
            "Apple storage 4gb RAM/64gb ROM\n",
            "Apple storage 6gb RAM/128gb ROM \n",
            "\n",
            "Apple processor A13 Bionic Processor\n",
            "Apple processor A12 Bionic Processor\n"
          ],
          "name": "stdout"
        }
      ]
    },
    {
      "cell_type": "markdown",
      "metadata": {
        "id": "jBM82pxKqGaW"
      },
      "source": [
        "Inheritance"
      ]
    },
    {
      "cell_type": "code",
      "metadata": {
        "colab": {
          "base_uri": "https://localhost:8080/"
        },
        "id": "xC46HRlaq1Uh",
        "outputId": "c2115f26-669a-471c-d286-62fe27843ab4"
      },
      "source": [
        "class Mobile:\n",
        "  def __init__(self):\n",
        "    print(\"Smartphone is Ready for Launch\")\n",
        "  \n",
        "  def whoisthis(self):\n",
        "    print(\"Smartphone\")\n",
        "  \n",
        "  def proccessor(self):\n",
        "    print(\"Super Fast Processor\")\n",
        "  \n",
        "class Motorola(Mobile):\n",
        "  def __init__(self):\n",
        "    super().__init__()\n",
        "    print(\"Motorola is ready\")\n",
        "\n",
        "  def whoisthis(self):\n",
        "    print(\"Motorola\")\n",
        "  \n",
        "  def run(self):\n",
        "    print(\"Super fast Proccesor\")\n",
        "\n",
        "Motorola=Motorola()\n",
        "Motorola.whoisthis()\n",
        "Motorola.proccessor()\n",
        "Motorola.run()\n"
      ],
      "execution_count": null,
      "outputs": [
        {
          "output_type": "stream",
          "text": [
            "Smartphone is Ready for Launch\n",
            "Motorola is ready\n",
            "Motorola\n",
            "Super Fast Processor\n",
            "Super fast Proccesor\n"
          ],
          "name": "stdout"
        }
      ]
    },
    {
      "cell_type": "markdown",
      "metadata": {
        "id": "flp9P908zaR_"
      },
      "source": [
        "Encapsulation"
      ]
    },
    {
      "cell_type": "code",
      "metadata": {
        "colab": {
          "base_uri": "https://localhost:8080/"
        },
        "id": "EId3Me5gzdpn",
        "outputId": "68d76934-44d1-44a6-f84a-9f0aa13fd57b"
      },
      "source": [
        "class Mobile:\n",
        "  def __init__(self):\n",
        "    self.__maxprice=150000\n",
        "\n",
        "  def sell(self):\n",
        "   print(\"Selling Price: {}\".format(self.__maxprice))\n",
        "  \n",
        "  def setmaxprice(self,price):\n",
        "    self.__maxprice=price\n",
        "\n",
        "m=Mobile()\n",
        "m.sell()\n",
        "\n",
        "m.__maxprice=100000\n",
        "m.sell()\n",
        "\n",
        "m.setmaxprice(100000)\n",
        "m.sell()"
      ],
      "execution_count": null,
      "outputs": [
        {
          "output_type": "stream",
          "text": [
            "Selling Price: 150000\n",
            "Selling Price: 150000\n",
            "Selling Price: 100000\n"
          ],
          "name": "stdout"
        }
      ]
    },
    {
      "cell_type": "markdown",
      "metadata": {
        "id": "vrrvzdqQJboe"
      },
      "source": [
        "Polymorphism"
      ]
    },
    {
      "cell_type": "code",
      "metadata": {
        "colab": {
          "base_uri": "https://localhost:8080/"
        },
        "id": "QoBjsuW9JfWu",
        "outputId": "12100f57-7b71-49ac-99ab-fe928477d5a4"
      },
      "source": [
        "class Apple:\n",
        "    def WaterResistant(self):\n",
        "        print(\"Yes it is WaterResistant\")\n",
        "\n",
        "    def price(self):\n",
        "        print(\"Expensve\")\n",
        "\n",
        "class Motorola:\n",
        "    def WaterResistant(self):\n",
        "        print(\"No it is not WaterResistant\")\n",
        "\n",
        "    def price(self):\n",
        "        print(\"Cheap\")\n",
        "\n",
        "def WaterResistant_test(Mobile):\n",
        "    Mobile.WaterResistant()\n",
        "\n",
        "Motorola= Motorola()\n",
        "Apple = Apple()\n",
        "\n",
        "WaterResistant_test(Motorola)\n",
        "WaterResistant_test(Apple)"
      ],
      "execution_count": 1,
      "outputs": [
        {
          "output_type": "stream",
          "text": [
            "No it is not WaterResistant\n",
            "Yes it is WaterResistant\n"
          ],
          "name": "stdout"
        }
      ]
    }
  ]
}